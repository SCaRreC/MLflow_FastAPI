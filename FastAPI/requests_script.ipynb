{
 "cells": [
  {
   "cell_type": "code",
   "execution_count": 7,
   "id": "1ede3656",
   "metadata": {},
   "outputs": [],
   "source": [
    "import requests\n",
    "import time"
   ]
  },
  {
   "cell_type": "code",
   "execution_count": 8,
   "id": "ab43b54d",
   "metadata": {},
   "outputs": [
    {
     "name": "stdout",
     "output_type": "stream",
     "text": [
      "{'message': 'Welcome to my API with FastAPI and Hugging Face'}\n"
     ]
    }
   ],
   "source": [
    "# get\n",
    "\n",
    "answer = requests.get(\"http://localhost:8000/\")\n",
    "print(answer.json())"
   ]
  },
  {
   "cell_type": "code",
   "execution_count": null,
   "id": "133f8468",
   "metadata": {},
   "outputs": [
    {
     "name": "stdout",
     "output_type": "stream",
     "text": [
      "Texto generado:\n",
      "[{'generated_text': \"How are you? I'm really excited to be participating in this great event. I love how much the community is welcoming me and I've been really excited to see what kind of community we can get together to create a truly great community for these people.\\n\\nWe love you guys too!\\n\\nWhat's your schedule like?\\n\\nWe're starting this month to work on all of the content and updates, and then we'll be taking the time to talk to you guys about how we're doing. We talk to you guys about games, and then we'll get into what you guys think about the design and things that we're doing.\\n\\nTell us about your current work with Team Secret.\\n\\nWe've done some work on Team Secret, and I'm looking forward to going back into the studio and working on the games that we're making. I want to bring back the core team for some fun things, and I want to bring the team back to a great place.\\n\\nWhat is the most exciting thing you've seen in your time in Secret?\\n\\nI've always been interested in what people want from games. I think one of the things that's cool about Secret is that it's a game that is truly unique and unique in many ways. I\"}]\n"
     ]
    }
   ],
   "source": [
    "text = {\"prompt\": \"How are you?\"}\n",
    "\n",
    "\n",
    "response = requests.get('http://127.0.0.1:8000/generate', params=text)\n",
    "if response.status_code == 200: \n",
    "    data = response.json()\n",
    "    print(\"Generated text:\")\n",
    "    print(data[\"result\"])\n",
    "else:\n",
    "    print(\"Error in the petition:\", response.status_code)"
   ]
  },
  {
   "cell_type": "code",
   "execution_count": 19,
   "id": "39b6387a",
   "metadata": {},
   "outputs": [
    {
     "name": "stdout",
     "output_type": "stream",
     "text": [
      "Generated text:\n",
      "[{'label': 'NEGATIVE', 'score': 0.8875528573989868}]\n"
     ]
    }
   ],
   "source": [
    "text = {\"prompt\": \"I am fed up with this heat-wave\"}\n",
    "\n",
    "response = requests.get('http://127.0.0.1:8000/sentiment', params=text)\n",
    "if response.status_code == 200: \n",
    "    data = response.json()\n",
    "    print(\"Generated text:\")\n",
    "    print(data[\"result\"])\n",
    "else:\n",
    "    print(\"Error in the petition:\", response.status_code)"
   ]
  },
  {
   "cell_type": "code",
   "execution_count": 22,
   "id": "55558e75",
   "metadata": {},
   "outputs": [
    {
     "name": "stdout",
     "output_type": "stream",
     "text": [
      "number of words:\n",
      "2\n"
     ]
    }
   ],
   "source": [
    "text = {\"prompt\": \"sentence trail\"}\n",
    "\n",
    "response = requests.get('http://127.0.0.1:8000/count', params=text)\n",
    "if response.status_code == 200: \n",
    "    data = response.json()\n",
    "    print(\"number of words:\")\n",
    "    print(data[\"n_words\"])\n",
    "else:\n",
    "    print(\"Error in the petition:\", response.status_code)"
   ]
  },
  {
   "cell_type": "code",
   "execution_count": 23,
   "id": "3183535e",
   "metadata": {},
   "outputs": [
    {
     "name": "stdout",
     "output_type": "stream",
     "text": [
      "Inverted_text:\n",
      "dlrow olleh\n"
     ]
    }
   ],
   "source": [
    "text = {\"text\": \"hello world\"}\n",
    "\n",
    "response = requests.get('http://127.0.0.1:8000/invert', params=text)\n",
    "if response.status_code == 200: \n",
    "    data = response.json()\n",
    "    print(\"Inverted_text:\")\n",
    "    print(data[\"inverted_text\"])\n",
    "else:\n",
    "    print(\"Error in the petition:\", response.status_code)"
   ]
  }
 ],
 "metadata": {
  "kernelspec": {
   "display_name": "environment_mlops",
   "language": "python",
   "name": "python3"
  },
  "language_info": {
   "codemirror_mode": {
    "name": "ipython",
    "version": 3
   },
   "file_extension": ".py",
   "mimetype": "text/x-python",
   "name": "python",
   "nbconvert_exporter": "python",
   "pygments_lexer": "ipython3",
   "version": "3.10.18"
  }
 },
 "nbformat": 4,
 "nbformat_minor": 5
}
