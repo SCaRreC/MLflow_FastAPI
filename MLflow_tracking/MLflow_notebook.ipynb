{
  "cells": [
    {
      "cell_type": "markdown",
      "metadata": {},
      "source": [
        "# Práctica Final: Clasificación con Scikit-learn y MLflow\n",
        "\n",
        "En esta práctica, utilizarás un conjunto de datos de Scikit-learn (podeís usar el mismo que en el notebook de Intro MLFlow) para entrenar un modelo de clasificación.\n",
        "\n",
        "Pasos a seguir: \n",
        "\n",
        "    Exploración de Datos: Analiza el conjunto de datos proporcionado para comprender su estructura y contenido.\n",
        "\n",
        "    Preprocesamiento de Texto: Realiza tareas de preprocesamiento de texto, como tokenización y vectorización, para preparar los datos para el modelado.\n",
        "\n",
        "    Entrenamiento del Modelo: Utiliza algoritmos de clasificación de Scikit-learn para entrenar un modelo con los datos preprocesados.\n",
        "\n",
        "    Evaluación del Modelo: Evalúa el rendimiento del modelo utilizando métricas de evaluación estándar como precisión y recall.\n",
        "\n",
        "    Registro de Métricas con MLflow: Utiliza MLflow para registrar métricas y hiperparámetros durante el entrenamiento, facilitando la gestión y comparación de experimentos.\n",
        "\n",
        "\n",
        "Nota: Dado que no voy a poder tener acceso a vuestros logs de MLFlow añadirme las imagenes de la interfaz de MLFlow en el notebook"
      ]
    },
    {
      "cell_type": "code",
      "execution_count": 48,
      "metadata": {},
      "outputs": [],
      "source": [
        "import numpy  as np  \n",
        "import pandas as pd\n",
        "import matplotlib.pyplot as plt\n",
        "import mlflow \n",
        "\n",
        "from sklearn.model_selection import train_test_split\n",
        "from sklearn.ensemble import RandomForestClassifier\n",
        "\n",
        "from sklearn.pipeline import Pipeline\n",
        "from sklearn.preprocessing import StandardScaler\n",
        "from functions import *"
      ]
    },
    {
      "cell_type": "markdown",
      "metadata": {},
      "source": [
        "# Intro\n",
        "For this exercise, I am going to use a familiar data set previously used in the module of 'machine learning'. This will allow me to speed up the EDA step for the data and at the same time, explore further into the models used and parameters that I did not have the time to explore when working on that module."
      ]
    },
    {
      "cell_type": "markdown",
      "metadata": {},
      "source": [
        "# EDA\n",
        "\n",
        "This part I did exahutively during the exercise for the module of Machine Learning.\n",
        "Please, refer to the following link to the notebook with EDA on the dataset of Airbnb properties: https://github.com/SCaRreC/Machine_learning/blob/main/Practica_Machine_Learning.ipynb.\n"
      ]
    },
    {
      "cell_type": "markdown",
      "metadata": {},
      "source": [
        "# From code in cells to scrips in functions\n",
        "\n",
        "For the rest of the notebook, I tried to integrate the code I had in sepparate cells (also in the Machine Learning notebook), into functions that would do all the transformations at once.\n",
        "\n",
        "All funtions are described in the [functions.py](/Users/saracarcamo/Documents/KeepCoding/Modulos_Bootcamp/mlops/functions.py) file.\n",
        "\n"
      ]
    },
    {
      "cell_type": "code",
      "execution_count": 49,
      "metadata": {},
      "outputs": [],
      "source": [
        "# Data loading and selection of columns to work with. Removal of NAs in the Target (Price).\n",
        "path = \"/Users/saracarcamo/Documents/KeepCoding/Practicas/Machine_learning/airbnb-listings-extract.csv\"\n",
        "df = load_dataset(path)"
      ]
    },
    {
      "cell_type": "code",
      "execution_count": 50,
      "metadata": {},
      "outputs": [
        {
          "data": {
            "text/html": [
              "<div>\n",
              "<style scoped>\n",
              "    .dataframe tbody tr th:only-of-type {\n",
              "        vertical-align: middle;\n",
              "    }\n",
              "\n",
              "    .dataframe tbody tr th {\n",
              "        vertical-align: top;\n",
              "    }\n",
              "\n",
              "    .dataframe thead th {\n",
              "        text-align: right;\n",
              "    }\n",
              "</style>\n",
              "<table border=\"1\" class=\"dataframe\">\n",
              "  <thead>\n",
              "    <tr style=\"text-align: right;\">\n",
              "      <th></th>\n",
              "      <th>1</th>\n",
              "      <th>2</th>\n",
              "      <th>3</th>\n",
              "      <th>4</th>\n",
              "      <th>5</th>\n",
              "    </tr>\n",
              "  </thead>\n",
              "  <tbody>\n",
              "    <tr>\n",
              "      <th>Neighbourhood Cleansed</th>\n",
              "      <td>la Dreta de l'Eixample</td>\n",
              "      <td>la Dreta de l'Eixample</td>\n",
              "      <td>la Dreta de l'Eixample</td>\n",
              "      <td>l'Antiga Esquerra de l'Eixample</td>\n",
              "      <td>la Nova Esquerra de l'Eixample</td>\n",
              "    </tr>\n",
              "    <tr>\n",
              "      <th>Smart Location</th>\n",
              "      <td>Barcelona, Spain</td>\n",
              "      <td>Barcelona, Spain</td>\n",
              "      <td>Barcelona, Spain</td>\n",
              "      <td>Barcelona, Spain</td>\n",
              "      <td>Barcelona, Spain</td>\n",
              "    </tr>\n",
              "    <tr>\n",
              "      <th>Latitude</th>\n",
              "      <td>41.389683</td>\n",
              "      <td>41.393035</td>\n",
              "      <td>41.396967</td>\n",
              "      <td>41.388685</td>\n",
              "      <td>41.382537</td>\n",
              "    </tr>\n",
              "    <tr>\n",
              "      <th>Longitude</th>\n",
              "      <td>2.172625</td>\n",
              "      <td>2.162173</td>\n",
              "      <td>2.167418</td>\n",
              "      <td>2.15515</td>\n",
              "      <td>2.149577</td>\n",
              "    </tr>\n",
              "    <tr>\n",
              "      <th>Property Type</th>\n",
              "      <td>Apartment</td>\n",
              "      <td>Apartment</td>\n",
              "      <td>Apartment</td>\n",
              "      <td>Apartment</td>\n",
              "      <td>Apartment</td>\n",
              "    </tr>\n",
              "    <tr>\n",
              "      <th>Bathrooms</th>\n",
              "      <td>1.0</td>\n",
              "      <td>1.0</td>\n",
              "      <td>2.0</td>\n",
              "      <td>1.0</td>\n",
              "      <td>1.0</td>\n",
              "    </tr>\n",
              "    <tr>\n",
              "      <th>Bedrooms</th>\n",
              "      <td>1.0</td>\n",
              "      <td>1.0</td>\n",
              "      <td>3.0</td>\n",
              "      <td>2.0</td>\n",
              "      <td>2.0</td>\n",
              "    </tr>\n",
              "    <tr>\n",
              "      <th>Beds</th>\n",
              "      <td>1.0</td>\n",
              "      <td>1.0</td>\n",
              "      <td>4.0</td>\n",
              "      <td>2.0</td>\n",
              "      <td>3.0</td>\n",
              "    </tr>\n",
              "    <tr>\n",
              "      <th>Guests Included</th>\n",
              "      <td>2</td>\n",
              "      <td>2</td>\n",
              "      <td>2</td>\n",
              "      <td>1</td>\n",
              "      <td>1</td>\n",
              "    </tr>\n",
              "    <tr>\n",
              "      <th>Extra People</th>\n",
              "      <td>44</td>\n",
              "      <td>42</td>\n",
              "      <td>39</td>\n",
              "      <td>0</td>\n",
              "      <td>0</td>\n",
              "    </tr>\n",
              "    <tr>\n",
              "      <th>Minimum Nights</th>\n",
              "      <td>1</td>\n",
              "      <td>1</td>\n",
              "      <td>2</td>\n",
              "      <td>2</td>\n",
              "      <td>2</td>\n",
              "    </tr>\n",
              "    <tr>\n",
              "      <th>Maximum Nights</th>\n",
              "      <td>1125</td>\n",
              "      <td>1125</td>\n",
              "      <td>1125</td>\n",
              "      <td>1125</td>\n",
              "      <td>1125</td>\n",
              "    </tr>\n",
              "    <tr>\n",
              "      <th>Number of Reviews</th>\n",
              "      <td>1</td>\n",
              "      <td>0</td>\n",
              "      <td>13</td>\n",
              "      <td>0</td>\n",
              "      <td>0</td>\n",
              "    </tr>\n",
              "    <tr>\n",
              "      <th>Room Type</th>\n",
              "      <td>Entire home/apt</td>\n",
              "      <td>Entire home/apt</td>\n",
              "      <td>Entire home/apt</td>\n",
              "      <td>Entire home/apt</td>\n",
              "      <td>Entire home/apt</td>\n",
              "    </tr>\n",
              "    <tr>\n",
              "      <th>Price</th>\n",
              "      <td>70.0</td>\n",
              "      <td>70.0</td>\n",
              "      <td>229.0</td>\n",
              "      <td>149.0</td>\n",
              "      <td>106.0</td>\n",
              "    </tr>\n",
              "  </tbody>\n",
              "</table>\n",
              "</div>"
            ],
            "text/plain": [
              "                                             1                       2  \\\n",
              "Neighbourhood Cleansed  la Dreta de l'Eixample  la Dreta de l'Eixample   \n",
              "Smart Location                Barcelona, Spain        Barcelona, Spain   \n",
              "Latitude                             41.389683               41.393035   \n",
              "Longitude                             2.172625                2.162173   \n",
              "Property Type                        Apartment               Apartment   \n",
              "Bathrooms                                  1.0                     1.0   \n",
              "Bedrooms                                   1.0                     1.0   \n",
              "Beds                                       1.0                     1.0   \n",
              "Guests Included                              2                       2   \n",
              "Extra People                                44                      42   \n",
              "Minimum Nights                               1                       1   \n",
              "Maximum Nights                            1125                    1125   \n",
              "Number of Reviews                            1                       0   \n",
              "Room Type                      Entire home/apt         Entire home/apt   \n",
              "Price                                     70.0                    70.0   \n",
              "\n",
              "                                             3  \\\n",
              "Neighbourhood Cleansed  la Dreta de l'Eixample   \n",
              "Smart Location                Barcelona, Spain   \n",
              "Latitude                             41.396967   \n",
              "Longitude                             2.167418   \n",
              "Property Type                        Apartment   \n",
              "Bathrooms                                  2.0   \n",
              "Bedrooms                                   3.0   \n",
              "Beds                                       4.0   \n",
              "Guests Included                              2   \n",
              "Extra People                                39   \n",
              "Minimum Nights                               2   \n",
              "Maximum Nights                            1125   \n",
              "Number of Reviews                           13   \n",
              "Room Type                      Entire home/apt   \n",
              "Price                                    229.0   \n",
              "\n",
              "                                                      4  \\\n",
              "Neighbourhood Cleansed  l'Antiga Esquerra de l'Eixample   \n",
              "Smart Location                         Barcelona, Spain   \n",
              "Latitude                                      41.388685   \n",
              "Longitude                                       2.15515   \n",
              "Property Type                                 Apartment   \n",
              "Bathrooms                                           1.0   \n",
              "Bedrooms                                            2.0   \n",
              "Beds                                                2.0   \n",
              "Guests Included                                       1   \n",
              "Extra People                                          0   \n",
              "Minimum Nights                                        2   \n",
              "Maximum Nights                                     1125   \n",
              "Number of Reviews                                     0   \n",
              "Room Type                               Entire home/apt   \n",
              "Price                                             149.0   \n",
              "\n",
              "                                                     5  \n",
              "Neighbourhood Cleansed  la Nova Esquerra de l'Eixample  \n",
              "Smart Location                        Barcelona, Spain  \n",
              "Latitude                                     41.382537  \n",
              "Longitude                                     2.149577  \n",
              "Property Type                                Apartment  \n",
              "Bathrooms                                          1.0  \n",
              "Bedrooms                                           2.0  \n",
              "Beds                                               3.0  \n",
              "Guests Included                                      1  \n",
              "Extra People                                         0  \n",
              "Minimum Nights                                       2  \n",
              "Maximum Nights                                    1125  \n",
              "Number of Reviews                                    0  \n",
              "Room Type                              Entire home/apt  \n",
              "Price                                            106.0  "
            ]
          },
          "execution_count": 50,
          "metadata": {},
          "output_type": "execute_result"
        }
      ],
      "source": [
        "df.head(5).T\n"
      ]
    },
    {
      "cell_type": "code",
      "execution_count": 51,
      "metadata": {},
      "outputs": [
        {
          "data": {
            "text/plain": [
              "(13990, 15)"
            ]
          },
          "execution_count": 51,
          "metadata": {},
          "output_type": "execute_result"
        }
      ],
      "source": [
        "df.shape"
      ]
    },
    {
      "cell_type": "code",
      "execution_count": 52,
      "metadata": {},
      "outputs": [
        {
          "data": {
            "text/plain": [
              "Neighbourhood Cleansed     0\n",
              "Smart Location             0\n",
              "Latitude                   0\n",
              "Longitude                  0\n",
              "Property Type              0\n",
              "Bathrooms                 51\n",
              "Bedrooms                  24\n",
              "Beds                      48\n",
              "Guests Included            0\n",
              "Extra People               0\n",
              "Minimum Nights             0\n",
              "Maximum Nights             0\n",
              "Number of Reviews          0\n",
              "Room Type                  0\n",
              "Price                      0\n",
              "dtype: int64"
            ]
          },
          "execution_count": 52,
          "metadata": {},
          "output_type": "execute_result"
        }
      ],
      "source": [
        "df.isnull().sum()"
      ]
    },
    {
      "cell_type": "code",
      "execution_count": 53,
      "metadata": {},
      "outputs": [],
      "source": [
        "x_train, x_test, y_train, y_test = create_train_test(df)"
      ]
    },
    {
      "cell_type": "code",
      "execution_count": 54,
      "metadata": {},
      "outputs": [],
      "source": [
        "x_train, tar_encoder, one_encoder = preprocess_data_train(x_train, y_train)"
      ]
    },
    {
      "cell_type": "code",
      "execution_count": 55,
      "metadata": {},
      "outputs": [
        {
          "data": {
            "text/html": [
              "<div>\n",
              "<style scoped>\n",
              "    .dataframe tbody tr th:only-of-type {\n",
              "        vertical-align: middle;\n",
              "    }\n",
              "\n",
              "    .dataframe tbody tr th {\n",
              "        vertical-align: top;\n",
              "    }\n",
              "\n",
              "    .dataframe thead th {\n",
              "        text-align: right;\n",
              "    }\n",
              "</style>\n",
              "<table border=\"1\" class=\"dataframe\">\n",
              "  <thead>\n",
              "    <tr style=\"text-align: right;\">\n",
              "      <th></th>\n",
              "      <th>12828</th>\n",
              "      <th>11101</th>\n",
              "      <th>11026</th>\n",
              "      <th>3874</th>\n",
              "      <th>3733</th>\n",
              "    </tr>\n",
              "  </thead>\n",
              "  <tbody>\n",
              "    <tr>\n",
              "      <th>Neighbourhood Cleansed</th>\n",
              "      <td>4.088924</td>\n",
              "      <td>4.197908</td>\n",
              "      <td>4.310793</td>\n",
              "      <td>4.056921</td>\n",
              "      <td>3.382911</td>\n",
              "    </tr>\n",
              "    <tr>\n",
              "      <th>Smart Location</th>\n",
              "      <td>3.973793</td>\n",
              "      <td>3.974388</td>\n",
              "      <td>3.974388</td>\n",
              "      <td>3.974388</td>\n",
              "      <td>3.974520</td>\n",
              "    </tr>\n",
              "    <tr>\n",
              "      <th>Latitude</th>\n",
              "      <td>40.428537</td>\n",
              "      <td>40.416091</td>\n",
              "      <td>40.420104</td>\n",
              "      <td>40.430953</td>\n",
              "      <td>40.408729</td>\n",
              "    </tr>\n",
              "    <tr>\n",
              "      <th>Longitude</th>\n",
              "      <td>-3.708132</td>\n",
              "      <td>-3.709490</td>\n",
              "      <td>-3.704164</td>\n",
              "      <td>-3.675646</td>\n",
              "      <td>-3.742796</td>\n",
              "    </tr>\n",
              "    <tr>\n",
              "      <th>Property Type</th>\n",
              "      <td>4.029589</td>\n",
              "      <td>4.029165</td>\n",
              "      <td>4.029165</td>\n",
              "      <td>4.029165</td>\n",
              "      <td>4.028577</td>\n",
              "    </tr>\n",
              "    <tr>\n",
              "      <th>Bathrooms</th>\n",
              "      <td>1.000000</td>\n",
              "      <td>1.000000</td>\n",
              "      <td>3.000000</td>\n",
              "      <td>1.000000</td>\n",
              "      <td>1.000000</td>\n",
              "    </tr>\n",
              "    <tr>\n",
              "      <th>Bedrooms</th>\n",
              "      <td>2.000000</td>\n",
              "      <td>1.000000</td>\n",
              "      <td>1.000000</td>\n",
              "      <td>1.000000</td>\n",
              "      <td>4.000000</td>\n",
              "    </tr>\n",
              "    <tr>\n",
              "      <th>Beds</th>\n",
              "      <td>4.000000</td>\n",
              "      <td>3.000000</td>\n",
              "      <td>1.000000</td>\n",
              "      <td>1.000000</td>\n",
              "      <td>6.000000</td>\n",
              "    </tr>\n",
              "    <tr>\n",
              "      <th>Guests Included</th>\n",
              "      <td>6.000000</td>\n",
              "      <td>1.000000</td>\n",
              "      <td>1.000000</td>\n",
              "      <td>1.000000</td>\n",
              "      <td>8.000000</td>\n",
              "    </tr>\n",
              "    <tr>\n",
              "      <th>Extra People</th>\n",
              "      <td>0.000000</td>\n",
              "      <td>0.000000</td>\n",
              "      <td>5.000000</td>\n",
              "      <td>0.000000</td>\n",
              "      <td>5.000000</td>\n",
              "    </tr>\n",
              "    <tr>\n",
              "      <th>Minimum Nights</th>\n",
              "      <td>2.000000</td>\n",
              "      <td>1.000000</td>\n",
              "      <td>10.000000</td>\n",
              "      <td>14.000000</td>\n",
              "      <td>2.000000</td>\n",
              "    </tr>\n",
              "    <tr>\n",
              "      <th>Maximum Nights</th>\n",
              "      <td>1125.000000</td>\n",
              "      <td>1125.000000</td>\n",
              "      <td>1125.000000</td>\n",
              "      <td>1125.000000</td>\n",
              "      <td>1125.000000</td>\n",
              "    </tr>\n",
              "    <tr>\n",
              "      <th>Number of Reviews</th>\n",
              "      <td>38.000000</td>\n",
              "      <td>3.000000</td>\n",
              "      <td>0.000000</td>\n",
              "      <td>7.000000</td>\n",
              "      <td>12.000000</td>\n",
              "    </tr>\n",
              "    <tr>\n",
              "      <th>Room Type_Private room</th>\n",
              "      <td>0.000000</td>\n",
              "      <td>0.000000</td>\n",
              "      <td>1.000000</td>\n",
              "      <td>0.000000</td>\n",
              "      <td>0.000000</td>\n",
              "    </tr>\n",
              "    <tr>\n",
              "      <th>Room Type_Shared room</th>\n",
              "      <td>0.000000</td>\n",
              "      <td>0.000000</td>\n",
              "      <td>0.000000</td>\n",
              "      <td>0.000000</td>\n",
              "      <td>0.000000</td>\n",
              "    </tr>\n",
              "  </tbody>\n",
              "</table>\n",
              "</div>"
            ],
            "text/plain": [
              "                              12828        11101        11026        3874   \\\n",
              "Neighbourhood Cleansed     4.088924     4.197908     4.310793     4.056921   \n",
              "Smart Location             3.973793     3.974388     3.974388     3.974388   \n",
              "Latitude                  40.428537    40.416091    40.420104    40.430953   \n",
              "Longitude                 -3.708132    -3.709490    -3.704164    -3.675646   \n",
              "Property Type              4.029589     4.029165     4.029165     4.029165   \n",
              "Bathrooms                  1.000000     1.000000     3.000000     1.000000   \n",
              "Bedrooms                   2.000000     1.000000     1.000000     1.000000   \n",
              "Beds                       4.000000     3.000000     1.000000     1.000000   \n",
              "Guests Included            6.000000     1.000000     1.000000     1.000000   \n",
              "Extra People               0.000000     0.000000     5.000000     0.000000   \n",
              "Minimum Nights             2.000000     1.000000    10.000000    14.000000   \n",
              "Maximum Nights          1125.000000  1125.000000  1125.000000  1125.000000   \n",
              "Number of Reviews         38.000000     3.000000     0.000000     7.000000   \n",
              "Room Type_Private room     0.000000     0.000000     1.000000     0.000000   \n",
              "Room Type_Shared room      0.000000     0.000000     0.000000     0.000000   \n",
              "\n",
              "                              3733   \n",
              "Neighbourhood Cleansed     3.382911  \n",
              "Smart Location             3.974520  \n",
              "Latitude                  40.408729  \n",
              "Longitude                 -3.742796  \n",
              "Property Type              4.028577  \n",
              "Bathrooms                  1.000000  \n",
              "Bedrooms                   4.000000  \n",
              "Beds                       6.000000  \n",
              "Guests Included            8.000000  \n",
              "Extra People               5.000000  \n",
              "Minimum Nights             2.000000  \n",
              "Maximum Nights          1125.000000  \n",
              "Number of Reviews         12.000000  \n",
              "Room Type_Private room     0.000000  \n",
              "Room Type_Shared room      0.000000  "
            ]
          },
          "execution_count": 55,
          "metadata": {},
          "output_type": "execute_result"
        }
      ],
      "source": [
        "x_train.head().T"
      ]
    },
    {
      "cell_type": "code",
      "execution_count": 56,
      "metadata": {},
      "outputs": [
        {
          "data": {
            "text/plain": [
              "Neighbourhood Cleansed    0\n",
              "Smart Location            0\n",
              "Latitude                  0\n",
              "Longitude                 0\n",
              "Property Type             0\n",
              "Bathrooms                 0\n",
              "Bedrooms                  0\n",
              "Beds                      0\n",
              "Guests Included           0\n",
              "Extra People              0\n",
              "Minimum Nights            0\n",
              "Maximum Nights            0\n",
              "Number of Reviews         0\n",
              "Room Type_Private room    0\n",
              "Room Type_Shared room     0\n",
              "dtype: int64"
            ]
          },
          "execution_count": 56,
          "metadata": {},
          "output_type": "execute_result"
        }
      ],
      "source": [
        "x_train.isnull().sum()"
      ]
    },
    {
      "cell_type": "code",
      "execution_count": 57,
      "metadata": {},
      "outputs": [],
      "source": [
        "x_test = preprocess_data_test(x_test, x_train, y_train, tar_encoder, one_encoder)"
      ]
    },
    {
      "cell_type": "code",
      "execution_count": 58,
      "metadata": {},
      "outputs": [],
      "source": [
        "# Scale data in x\n",
        "x_train_scaled, x_test_scaled = Scale_numeric_var(x_train, x_test)"
      ]
    },
    {
      "cell_type": "code",
      "execution_count": 59,
      "metadata": {},
      "outputs": [
        {
          "name": "stdout",
          "output_type": "stream",
          "text": [
            "(11192, 14)\n",
            "(2798, 14)\n"
          ]
        }
      ],
      "source": [
        "print(x_train_scaled.shape)\n",
        "print(x_test_scaled.shape)"
      ]
    },
    {
      "cell_type": "code",
      "execution_count": 63,
      "metadata": {},
      "outputs": [],
      "source": [
        "name = 'airbnb_price_model_v3'\n",
        "n_estimators = (300, 500, 100)\n",
        "max_depth = (5, 10, 5)\n",
        "min_samples_leaf = (5, 20, 5)"
      ]
    },
    {
      "cell_type": "markdown",
      "metadata": {},
      "source": [
        "## main.py file\n",
        "\n",
        "Args: \n",
        "    main(\n",
        "    * path='/path/to/your/.csv/file',\n",
        "    * experiment_name='experimento_test',\n",
        "    * n_estimators='tuple for range of parameters to try',\n",
        "    * max_depth='tuple for range of parameters to try',\n",
        "    * min_samples_leaf='tuple for range of parameters to try'\n",
        ")"
      ]
    },
    {
      "cell_type": "code",
      "execution_count": 64,
      "metadata": {},
      "outputs": [],
      "source": [
        "mlflow.set_tracking_uri(\"http://127.0.0.1:5000\")"
      ]
    },
    {
      "cell_type": "code",
      "execution_count": 65,
      "metadata": {},
      "outputs": [
        {
          "name": "stderr",
          "output_type": "stream",
          "text": [
            "2025/07/05 12:53:00 INFO mlflow.tracking.fluent: Experiment with name 'airbnb_price_model_v3' does not exist. Creating a new experiment.\n",
            "2025/07/05 12:53:04 WARNING mlflow.models.model: `artifact_path` is deprecated. Please use `name` instead.\n",
            "\u001b[31m2025/07/05 12:53:06 WARNING mlflow.models.model: Model logged without a signature and input example. Please set `input_example` parameter when logging the model to auto infer the model signature.\u001b[0m\n"
          ]
        },
        {
          "name": "stdout",
          "output_type": "stream",
          "text": [
            "🏃 View run RF_300_estimators_5_depth_sample_leaf5 at: http://127.0.0.1:5000/#/experiments/683241590948331373/runs/3271a4f4f0cb46f2ae1b501ed40b7c97\n",
            "🧪 View experiment at: http://127.0.0.1:5000/#/experiments/683241590948331373\n"
          ]
        },
        {
          "name": "stderr",
          "output_type": "stream",
          "text": [
            "2025/07/05 12:53:10 WARNING mlflow.models.model: `artifact_path` is deprecated. Please use `name` instead.\n",
            "\u001b[31m2025/07/05 12:53:12 WARNING mlflow.models.model: Model logged without a signature and input example. Please set `input_example` parameter when logging the model to auto infer the model signature.\u001b[0m\n"
          ]
        },
        {
          "name": "stdout",
          "output_type": "stream",
          "text": [
            "🏃 View run RF_300_estimators_5_depth_sample_leaf10 at: http://127.0.0.1:5000/#/experiments/683241590948331373/runs/08b6e3665afa4fadb00f2ff1660af64f\n",
            "🧪 View experiment at: http://127.0.0.1:5000/#/experiments/683241590948331373\n"
          ]
        },
        {
          "name": "stderr",
          "output_type": "stream",
          "text": [
            "2025/07/05 12:53:16 WARNING mlflow.models.model: `artifact_path` is deprecated. Please use `name` instead.\n",
            "\u001b[31m2025/07/05 12:53:17 WARNING mlflow.models.model: Model logged without a signature and input example. Please set `input_example` parameter when logging the model to auto infer the model signature.\u001b[0m\n"
          ]
        },
        {
          "name": "stdout",
          "output_type": "stream",
          "text": [
            "🏃 View run RF_300_estimators_5_depth_sample_leaf15 at: http://127.0.0.1:5000/#/experiments/683241590948331373/runs/e0c62becdc784c37ade72cec6ccb477f\n",
            "🧪 View experiment at: http://127.0.0.1:5000/#/experiments/683241590948331373\n"
          ]
        },
        {
          "name": "stderr",
          "output_type": "stream",
          "text": [
            "2025/07/05 12:53:22 WARNING mlflow.models.model: `artifact_path` is deprecated. Please use `name` instead.\n",
            "\u001b[31m2025/07/05 12:53:24 WARNING mlflow.models.model: Model logged without a signature and input example. Please set `input_example` parameter when logging the model to auto infer the model signature.\u001b[0m\n"
          ]
        },
        {
          "name": "stdout",
          "output_type": "stream",
          "text": [
            "🏃 View run RF_400_estimators_5_depth_sample_leaf5 at: http://127.0.0.1:5000/#/experiments/683241590948331373/runs/ad949e5923e849869339a3fd4aeebe13\n",
            "🧪 View experiment at: http://127.0.0.1:5000/#/experiments/683241590948331373\n"
          ]
        },
        {
          "name": "stderr",
          "output_type": "stream",
          "text": [
            "2025/07/05 12:53:29 WARNING mlflow.models.model: `artifact_path` is deprecated. Please use `name` instead.\n",
            "\u001b[31m2025/07/05 12:53:31 WARNING mlflow.models.model: Model logged without a signature and input example. Please set `input_example` parameter when logging the model to auto infer the model signature.\u001b[0m\n"
          ]
        },
        {
          "name": "stdout",
          "output_type": "stream",
          "text": [
            "🏃 View run RF_400_estimators_5_depth_sample_leaf10 at: http://127.0.0.1:5000/#/experiments/683241590948331373/runs/c92acefa52c74e529792377538130009\n",
            "🧪 View experiment at: http://127.0.0.1:5000/#/experiments/683241590948331373\n"
          ]
        },
        {
          "name": "stderr",
          "output_type": "stream",
          "text": [
            "2025/07/05 12:53:36 WARNING mlflow.models.model: `artifact_path` is deprecated. Please use `name` instead.\n",
            "\u001b[31m2025/07/05 12:53:37 WARNING mlflow.models.model: Model logged without a signature and input example. Please set `input_example` parameter when logging the model to auto infer the model signature.\u001b[0m\n"
          ]
        },
        {
          "name": "stdout",
          "output_type": "stream",
          "text": [
            "🏃 View run RF_400_estimators_5_depth_sample_leaf15 at: http://127.0.0.1:5000/#/experiments/683241590948331373/runs/40ae61309ba84975afb992b0cdf1fc03\n",
            "🧪 View experiment at: http://127.0.0.1:5000/#/experiments/683241590948331373\n",
            "Se ha acabado el entrenamiento del modelo correctamente\n"
          ]
        }
      ],
      "source": [
        "mlflow_tracking(name, x_train, x_test, y_train, y_test, n_estimators, max_depth, min_samples_leaf)"
      ]
    },
    {
      "cell_type": "markdown",
      "metadata": {},
      "source": [
        "Refer to the [screenshots/](https://github.com/SCaRreC/MLflow_FastAPI/tree/main/MLflow_tracking/screenshots) folder to see some screenshots of the Mlflow interface."
      ]
    }
  ],
  "metadata": {
    "accelerator": "GPU",
    "colab": {
      "provenance": []
    },
    "kernelspec": {
      "display_name": "environment_mlops",
      "language": "python",
      "name": "python3"
    },
    "language_info": {
      "codemirror_mode": {
        "name": "ipython",
        "version": 3
      },
      "file_extension": ".py",
      "mimetype": "text/x-python",
      "name": "python",
      "nbconvert_exporter": "python",
      "pygments_lexer": "ipython3",
      "version": "3.10.18"
    }
  },
  "nbformat": 4,
  "nbformat_minor": 0
}
